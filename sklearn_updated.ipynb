{
 "cells": [
  {
   "cell_type": "code",
   "execution_count": 1,
   "metadata": {},
   "outputs": [],
   "source": [
    "import pandas as pd\n",
    "\n",
    "df = pd.read_csv(r\"file_train.csv\")\n",
    "\n",
    "\n",
    "X = df.drop(['Nusselt Number'], axis=1)\n",
    "y = df.drop(['Wavelength','Corrugation Amplitude','Reynolds Number'], axis = 1)\n"
   ]
  },
  {
   "cell_type": "code",
   "execution_count": 117,
   "metadata": {},
   "outputs": [],
   "source": [
    "import numpy as np"
   ]
  },
  {
   "cell_type": "code",
   "execution_count": 2,
   "metadata": {},
   "outputs": [],
   "source": [
    "X = X.drop(['Unnamed: 0'], axis=1)\n",
    "y = y.drop(['Unnamed: 0'], axis=1)"
   ]
  },
  {
   "cell_type": "code",
   "execution_count": 5,
   "metadata": {},
   "outputs": [],
   "source": [
    "from sklearn.model_selection import train_test_split\n",
    "\n",
    "X_train, X_test, y_train, y_test = train_test_split(X, y, test_size=0.2, random_state=20)"
   ]
  },
  {
   "cell_type": "code",
   "execution_count": 14,
   "metadata": {},
   "outputs": [
    {
     "name": "stdout",
     "output_type": "stream",
     "text": [
      "0.8798915788465995\n"
     ]
    }
   ],
   "source": [
    "from sklearn.linear_model import LinearRegression\n",
    "\n",
    "regr = LinearRegression()\n",
    "history = regr.fit(X_train, y_train)\n",
    "print(regr.score(X_test, y_test))\n"
   ]
  },
  {
   "cell_type": "code",
   "execution_count": 15,
   "metadata": {},
   "outputs": [],
   "source": [
    "from sklearn.preprocessing import StandardScaler\n",
    "\n",
    "sc_X = StandardScaler()\n",
    "sc_y = StandardScaler()\n",
    "X = sc_X.fit_transform(X)\n",
    "y = sc_y.fit_transform(y)"
   ]
  },
  {
   "cell_type": "code",
   "execution_count": 22,
   "metadata": {},
   "outputs": [
    {
     "name": "stdout",
     "output_type": "stream",
     "text": [
      "0.9888035565351706\n"
     ]
    }
   ],
   "source": [
    "from sklearn.svm import SVR\n",
    "import numpy as np\n",
    "\n",
    "regressor = SVR(kernel = 'rbf')\n",
    "regressor.fit(X, np.ravel(y))\n",
    "\n",
    "print(regressor.score(X, np.ravel(y)))"
   ]
  },
  {
   "cell_type": "code",
   "execution_count": 25,
   "metadata": {},
   "outputs": [
    {
     "name": "stdout",
     "output_type": "stream",
     "text": [
      "0.9997226659511164\n"
     ]
    }
   ],
   "source": [
    "from sklearn.ensemble import RandomForestRegressor\n",
    "import numpy as np\n",
    "\n",
    "reg = RandomForestRegressor(n_estimators = 100, random_state = 0)\n",
    "reg.fit(X, np.ravel(y))\n",
    "print(reg.score(X, np.ravel(y)))"
   ]
  },
  {
   "cell_type": "code",
   "execution_count": 100,
   "metadata": {},
   "outputs": [],
   "source": [
    "pre = pd.read_csv(r\"predict.csv\")\n",
    "prex = pre.drop(['Nusselt Number'], axis=1)\n",
    "prey = pre.drop(['Wavelength','Corrugation Amplitude','Reynolds Number'], axis = 1)\n"
   ]
  },
  {
   "cell_type": "code",
   "execution_count": 227,
   "metadata": {},
   "outputs": [
    {
     "data": {
      "text/plain": [
       "array([ 6.26349397,  6.56713845,  6.87078294,  7.17442742,  7.4780719 ,\n",
       "        6.79648588,  7.10013036,  7.40377484,  6.29605863,  6.59970311,\n",
       "        6.9918738 ,  7.29551828,  7.59916276,  6.49144655,  6.79509103,\n",
       "        7.84545084,  8.14909532,  8.4527398 ,  8.75638428,  9.06002876,\n",
       "        9.27506883,  9.57871331,  9.88235779, 10.18600227,  6.35202019,\n",
       "        9.64384262,  9.9474871 , 10.25113158,  6.4171495 ,  6.72079398,\n",
       "        9.67640727,  9.98005176, 10.28369624,  6.44971415,  6.75335863,\n",
       "        7.05700311,  7.26295363,  7.56659811,  6.4588819 ,  6.76252638,\n",
       "        7.06617086,  7.36981534,  6.53317895,  6.83682344,  7.14046792,\n",
       "        9.84979314, 10.15343762,  6.31945553,  6.62310001,  6.92674449])"
      ]
     },
     "execution_count": 227,
     "metadata": {},
     "output_type": "execute_result"
    }
   ],
   "source": [
    "y_pred_lr = regr.predict(prex)\n",
    "y_pred_lr = y_pred_lr.reshape(-1,1)\n",
    "y_pred_lr = y_pred_lr.flatten()\n",
    "y_pred_lr"
   ]
  },
  {
   "cell_type": "code",
   "execution_count": 101,
   "metadata": {},
   "outputs": [
    {
     "data": {
      "text/plain": [
       "StandardScaler()"
      ]
     },
     "execution_count": 101,
     "metadata": {},
     "output_type": "execute_result"
    }
   ],
   "source": [
    "scaler_x = StandardScaler()\n",
    "scaler_x.fit(prex)\n",
    "scaler_y = StandardScaler()\n",
    "scaler_y.fit(prey)"
   ]
  },
  {
   "cell_type": "code",
   "execution_count": 78,
   "metadata": {},
   "outputs": [],
   "source": [
    "y_pred_svm = regressor.predict(scaler.transform(prex))"
   ]
  },
  {
   "cell_type": "code",
   "execution_count": 104,
   "metadata": {},
   "outputs": [],
   "source": [
    "y_pred_rf = reg.predict(scaler.transform(prex))"
   ]
  },
  {
   "cell_type": "code",
   "execution_count": 145,
   "metadata": {},
   "outputs": [],
   "source": [
    "y_pred_svm = y_pred_svm.reshape(-1,1)\n",
    "y_pred_svm = y_pred_svm.reshape(-1,1)\n",
    "y_pred_svm_inv = scaler_y.inverse_transform(y_pred_svm)\n",
    "y_pred_svm_inv = np.asarray(y_pred_svm_inv)\n",
    "y_pred_svm_inv = y_pred_svm_inv.flatten()\n",
    "y_pred_svm_inv = y_pred_svm_inv.flatten()\n",
    "y_pred_svm_inv"
   ]
  },
  {
   "cell_type": "code",
   "execution_count": 146,
   "metadata": {},
   "outputs": [
    {
     "data": {
      "text/plain": [
       "array([5.78049117, 6.12862311, 6.50022969, 6.85815508, 7.18800376,\n",
       "       6.15000948, 6.53029645, 6.89161203, 5.8923429 , 6.27804754,\n",
       "       6.7107125 , 7.07027507, 7.39919165, 6.35461924, 6.79385036,\n",
       "       8.22720465, 8.53734331, 8.85246862, 9.17289285, 9.46526916,\n",
       "       8.98613135, 9.29861224, 9.5361379 , 9.65413151, 5.87842   ,\n",
       "       9.21599954, 9.39880221, 9.46534357, 5.96280341, 6.35830318,\n",
       "       9.09712721, 9.24557324, 9.28343779, 6.00365519, 6.39218467,\n",
       "       6.78478539, 7.01789997, 7.35089593, 6.32389764, 6.75870928,\n",
       "       7.17017771, 7.53248622, 6.56838138, 7.01913398, 7.44016737,\n",
       "       9.57203614, 9.7085348 , 5.82209644, 6.21134298, 6.59871646])"
      ]
     },
     "execution_count": 146,
     "metadata": {},
     "output_type": "execute_result"
    }
   ],
   "source": []
  },
  {
   "cell_type": "code",
   "execution_count": 139,
   "metadata": {},
   "outputs": [],
   "source": [
    "y_pred_rf = y_pred_rf.reshape(-1,1)\n",
    "y_pred_rf_inv = scaler_y.inverse_transform(y_pred_rf)\n",
    "y_pred_rf_inv = np.asarray(y_pred_rf_inv)\n",
    "y_pred_rf_inv = y_pred_rf_inv.flatten()\n",
    "y_pred_rf_inv = y_pred_rf_inv.flatten()"
   ]
  },
  {
   "cell_type": "code",
   "execution_count": 140,
   "metadata": {},
   "outputs": [],
   "source": [
    "actual_val = pre[['Nusselt Number']].values"
   ]
  },
  {
   "cell_type": "code",
   "execution_count": 141,
   "metadata": {},
   "outputs": [],
   "source": [
    "a=[]\n",
    "for i in (range(50)):\n",
    "    a.append(i+1)"
   ]
  },
  {
   "cell_type": "code",
   "execution_count": 228,
   "metadata": {},
   "outputs": [
    {
     "data": {
      "image/png": "[encoded data removed]",
      "text/plain": [
       "<Figure size 432x288 with 1 Axes>"
      ]
     },
     "metadata": {
      "needs_background": "light"
     },
     "output_type": "display_data"
    }
   ],
   "source": [
    "import matplotlib.pyplot as plt\n",
    "\n",
    "plt.plot(a, y_pred_rf_inv ,  'bo', marker=\"+\", markersize=5 )\n",
    "plt.plot(a, actual_val, 'o', color='red', marker=\".\", markersize=5)  \n",
    "plt.xlabel('data points')\n",
    "plt.ylabel('Reynolds No')\n",
    "plt.title('Comparison of the predicted and simulated values for Random Forest model')\n",
    "plt.legend([\"Predicted\", \"Actual\"], loc =\"upper left\")  \n",
    "plt.savefig('RFg.jpg', dpi=500, bbox_inches='tight')\n",
    "plt.show()"
   ]
  },
  {
   "cell_type": "code",
   "execution_count": 229,
   "metadata": {},
   "outputs": [
    {
     "data": {
      "image/png": "[encoded data removed]",
      "text/plain": [
       "<Figure size 432x288 with 1 Axes>"
      ]
     },
     "metadata": {
      "needs_background": "light"
     },
     "output_type": "display_data"
    }
   ],
   "source": [
    "\n",
    "plt.plot(a, y_pred_lr, 'bo', marker=\"+\", markersize=5 )\n",
    "plt.plot(a, actual_val, 'o', color='red', marker=\".\", markersize=5 )  \n",
    "# naming the x axis\n",
    "plt.xlabel('data points')\n",
    "# naming the y axis\n",
    "plt.ylabel('Reynolds No')\n",
    "  \n",
    "# giving a title to my graph\n",
    "plt.title('Comparison of the predicted and simulated values for Linear Regression')\n",
    "plt.legend([\"Predicted\", \"Actual\"], loc =\"upper left\")   \n",
    "# function to show the plot\n",
    "\n",
    "plt.savefig('LRg.jpg', dpi=500, bbox_inches='tight')\n",
    "plt.show()"
   ]
  },
  {
   "cell_type": "code",
   "execution_count": 230,
   "metadata": {},
   "outputs": [
    {
     "data": {
      "image/png": "[encoded data removed]",
      "text/plain": [
       "<Figure size 432x288 with 1 Axes>"
      ]
     },
     "metadata": {
      "needs_background": "light"
     },
     "output_type": "display_data"
    }
   ],
   "source": [
    "plt.plot(a, y_pred_svm_inv, 'bo', marker=\"+\", markersize=5 )\n",
    "plt.plot(a, actual_val, 'o',color='red', marker=\".\", markersize=5 )  \n",
    "# naming the x axis\n",
    "plt.xlabel('data points')\n",
    "# naming the y axis\n",
    "plt.ylabel('Reynolds No')\n",
    "  \n",
    "# giving a title to my graph\n",
    "plt.title('Comparison of the predicted and simulated  values for SVM')\n",
    "plt.legend([\"Predicted\", \"Actual\"], loc =\"upper left\") \n",
    "plt.savefig('SVMg.jpg', dpi=500, bbox_inches='tight')\n",
    "# function to show the plot\n",
    "plt.show()"
   ]
  },
  {
   "cell_type": "code",
   "execution_count": 233,
   "metadata": {},
   "outputs": [],
   "source": [
    "y_pred_svm_inv = y_pred_svm_inv.reshape(-1,1)"
   ]
  },
  {
   "cell_type": "code",
   "execution_count": 234,
   "metadata": {},
   "outputs": [
    {
     "data": {
      "text/plain": [
       "array([[5.78049117],\n",
       "       [6.12862311],\n",
       "       [6.50022969],\n",
       "       [6.85815508],\n",
       "       [7.18800376],\n",
       "       [6.15000948],\n",
       "       [6.53029645],\n",
       "       [6.89161203],\n",
       "       [5.8923429 ],\n",
       "       [6.27804754],\n",
       "       [6.7107125 ],\n",
       "       [7.07027507],\n",
       "       [7.39919165],\n",
       "       [6.35461924],\n",
       "       [6.79385036],\n",
       "       [8.22720465],\n",
       "       [8.53734331],\n",
       "       [8.85246862],\n",
       "       [9.17289285],\n",
       "       [9.46526916],\n",
       "       [8.98613135],\n",
       "       [9.29861224],\n",
       "       [9.5361379 ],\n",
       "       [9.65413151],\n",
       "       [5.87842   ],\n",
       "       [9.21599954],\n",
       "       [9.39880221],\n",
       "       [9.46534357],\n",
       "       [5.96280341],\n",
       "       [6.35830318],\n",
       "       [9.09712721],\n",
       "       [9.24557324],\n",
       "       [9.28343779],\n",
       "       [6.00365519],\n",
       "       [6.39218467],\n",
       "       [6.78478539],\n",
       "       [7.01789997],\n",
       "       [7.35089593],\n",
       "       [6.32389764],\n",
       "       [6.75870928],\n",
       "       [7.17017771],\n",
       "       [7.53248622],\n",
       "       [6.56838138],\n",
       "       [7.01913398],\n",
       "       [7.44016737],\n",
       "       [9.57203614],\n",
       "       [9.7085348 ],\n",
       "       [5.82209644],\n",
       "       [6.21134298],\n",
       "       [6.59871646]])"
      ]
     },
     "execution_count": 234,
     "metadata": {},
     "output_type": "execute_result"
    }
   ],
   "source": [
    "y_pred_svm_inv"
   ]
  },
  {
   "cell_type": "code",
   "execution_count": 237,
   "metadata": {},
   "outputs": [],
   "source": [
    "y_pred_lr = y_pred_lr.reshape(-1,1)"
   ]
  },
  {
   "cell_type": "code",
   "execution_count": 238,
   "metadata": {},
   "outputs": [
    {
     "data": {
      "text/plain": [
       "array([[ 6.26349397],\n",
       "       [ 6.56713845],\n",
       "       [ 6.87078294],\n",
       "       [ 7.17442742],\n",
       "       [ 7.4780719 ],\n",
       "       [ 6.79648588],\n",
       "       [ 7.10013036],\n",
       "       [ 7.40377484],\n",
       "       [ 6.29605863],\n",
       "       [ 6.59970311],\n",
       "       [ 6.9918738 ],\n",
       "       [ 7.29551828],\n",
       "       [ 7.59916276],\n",
       "       [ 6.49144655],\n",
       "       [ 6.79509103],\n",
       "       [ 7.84545084],\n",
       "       [ 8.14909532],\n",
       "       [ 8.4527398 ],\n",
       "       [ 8.75638428],\n",
       "       [ 9.06002876],\n",
       "       [ 9.27506883],\n",
       "       [ 9.57871331],\n",
       "       [ 9.88235779],\n",
       "       [10.18600227],\n",
       "       [ 6.35202019],\n",
       "       [ 9.64384262],\n",
       "       [ 9.9474871 ],\n",
       "       [10.25113158],\n",
       "       [ 6.4171495 ],\n",
       "       [ 6.72079398],\n",
       "       [ 9.67640727],\n",
       "       [ 9.98005176],\n",
       "       [10.28369624],\n",
       "       [ 6.44971415],\n",
       "       [ 6.75335863],\n",
       "       [ 7.05700311],\n",
       "       [ 7.26295363],\n",
       "       [ 7.56659811],\n",
       "       [ 6.4588819 ],\n",
       "       [ 6.76252638],\n",
       "       [ 7.06617086],\n",
       "       [ 7.36981534],\n",
       "       [ 6.53317895],\n",
       "       [ 6.83682344],\n",
       "       [ 7.14046792],\n",
       "       [ 9.84979314],\n",
       "       [10.15343762],\n",
       "       [ 6.31945553],\n",
       "       [ 6.62310001],\n",
       "       [ 6.92674449]])"
      ]
     },
     "execution_count": 238,
     "metadata": {},
     "output_type": "execute_result"
    }
   ],
   "source": [
    "y_pred_lr"
   ]
  },
  {
   "cell_type": "code",
   "execution_count": 239,
   "metadata": {},
   "outputs": [],
   "source": [
    "y_pred_rf_inv = y_pred_rf_inv.reshape(-1,1)"
   ]
  },
  {
   "cell_type": "code",
   "execution_count": 240,
   "metadata": {},
   "outputs": [
    {
     "data": {
      "text/plain": [
       "array([[6.40434368],\n",
       "       [6.83160337],\n",
       "       [6.83160337],\n",
       "       [7.2258275 ],\n",
       "       [7.5869971 ],\n",
       "       [5.76910881],\n",
       "       [6.09723608],\n",
       "       [6.40061144],\n",
       "       [6.40434368],\n",
       "       [6.83160337],\n",
       "       [6.24691252],\n",
       "       [6.55638668],\n",
       "       [6.78593079],\n",
       "       [6.55399707],\n",
       "       [7.00600188],\n",
       "       [8.08698002],\n",
       "       [8.47516094],\n",
       "       [8.85079436],\n",
       "       [9.18844754],\n",
       "       [9.52498457],\n",
       "       [8.96658627],\n",
       "       [9.32136412],\n",
       "       [9.65703048],\n",
       "       [9.98641223],\n",
       "       [5.71753679],\n",
       "       [9.31937052],\n",
       "       [9.65833107],\n",
       "       [9.98798541],\n",
       "       [5.94508051],\n",
       "       [6.29743485],\n",
       "       [9.31972584],\n",
       "       [9.65887219],\n",
       "       [9.98818477],\n",
       "       [5.99860681],\n",
       "       [6.38541798],\n",
       "       [6.38541798],\n",
       "       [6.46588509],\n",
       "       [6.68454031],\n",
       "       [6.52816698],\n",
       "       [6.9789146 ],\n",
       "       [6.9789146 ],\n",
       "       [7.37207955],\n",
       "       [6.73110662],\n",
       "       [7.19963667],\n",
       "       [7.19963667],\n",
       "       [9.65364406],\n",
       "       [9.9837256 ],\n",
       "       [5.70922603],\n",
       "       [6.0530187 ],\n",
       "       [6.0530187 ]])"
      ]
     },
     "execution_count": 240,
     "metadata": {},
     "output_type": "execute_result"
    }
   ],
   "source": [
    "y_pred_rf_inv"
   ]
  },
  {
   "cell_type": "code",
   "execution_count": null,
   "metadata": {},
   "outputs": [],
   "source": []
  }
 ],
 "metadata": {
  "kernelspec": {
   "display_name": "Python 3",
   "language": "python",
   "name": "python3"
  },
  "language_info": {
   "codemirror_mode": {
    "name": "ipython",
    "version": 3
   },
   "file_extension": ".py",
   "mimetype": "text/x-python",
   "name": "python",
   "nbconvert_exporter": "python",
   "pygments_lexer": "ipython3",
   "version": "3.8.5"
  }
 },
 "nbformat": 4,
 "nbformat_minor": 4
}
